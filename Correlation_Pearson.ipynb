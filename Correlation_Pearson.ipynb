{
  "cells": [
    {
      "cell_type": "code",
      "execution_count": null,
      "metadata": {
        "id": "TNfqGoMEeutW"
      },
      "outputs": [],
      "source": [
        "# Mengimport Fungsi yang dibutuhkan\n",
        "\n",
        "import pandas as pd\n",
        "import numpy as np\n",
        "import matplotlib.pyplot as plt\n",
        "import seaborn as sns"
      ]
    },
    {
      "cell_type": "code",
      "execution_count": null,
      "metadata": {
        "colab": {
          "base_uri": "https://localhost:8080/",
          "height": 206
        },
        "id": "uKUnYSGYh0ZU",
        "outputId": "a08c2600-a7d5-4247-8d20-48dec8aaa428"
      },
      "outputs": [
        {
          "output_type": "execute_result",
          "data": {
            "text/html": [
              "\n",
              "  <div id=\"df-bab6e032-d998-4d9f-955f-cd3ba7a32c37\">\n",
              "    <div class=\"colab-df-container\">\n",
              "      <div>\n",
              "<style scoped>\n",
              "    .dataframe tbody tr th:only-of-type {\n",
              "        vertical-align: middle;\n",
              "    }\n",
              "\n",
              "    .dataframe tbody tr th {\n",
              "        vertical-align: top;\n",
              "    }\n",
              "\n",
              "    .dataframe thead th {\n",
              "        text-align: right;\n",
              "    }\n",
              "</style>\n",
              "<table border=\"1\" class=\"dataframe\">\n",
              "  <thead>\n",
              "    <tr style=\"text-align: right;\">\n",
              "      <th></th>\n",
              "      <th>typeofaction</th>\n",
              "      <th>sourceid</th>\n",
              "      <th>destinationid</th>\n",
              "      <th>amountofmoney</th>\n",
              "      <th>date</th>\n",
              "      <th>isfraud</th>\n",
              "      <th>typeoffraud</th>\n",
              "    </tr>\n",
              "  </thead>\n",
              "  <tbody>\n",
              "    <tr>\n",
              "      <th>0</th>\n",
              "      <td>cash-in</td>\n",
              "      <td>30105</td>\n",
              "      <td>28942</td>\n",
              "      <td>494528</td>\n",
              "      <td>2019-07-19 14:40:00</td>\n",
              "      <td>1</td>\n",
              "      <td>type1</td>\n",
              "    </tr>\n",
              "    <tr>\n",
              "      <th>1</th>\n",
              "      <td>cash-in</td>\n",
              "      <td>30105</td>\n",
              "      <td>8692</td>\n",
              "      <td>494528</td>\n",
              "      <td>2019-05-17 14:57:00</td>\n",
              "      <td>1</td>\n",
              "      <td>type1</td>\n",
              "    </tr>\n",
              "    <tr>\n",
              "      <th>2</th>\n",
              "      <td>cash-in</td>\n",
              "      <td>30105</td>\n",
              "      <td>60094</td>\n",
              "      <td>494528</td>\n",
              "      <td>2019-07-20 13:20:00</td>\n",
              "      <td>1</td>\n",
              "      <td>type1</td>\n",
              "    </tr>\n",
              "    <tr>\n",
              "      <th>3</th>\n",
              "      <td>cash-in</td>\n",
              "      <td>30105</td>\n",
              "      <td>20575</td>\n",
              "      <td>494528</td>\n",
              "      <td>2019-07-03 14:15:00</td>\n",
              "      <td>1</td>\n",
              "      <td>type1</td>\n",
              "    </tr>\n",
              "    <tr>\n",
              "      <th>4</th>\n",
              "      <td>cash-in</td>\n",
              "      <td>30105</td>\n",
              "      <td>45938</td>\n",
              "      <td>494528</td>\n",
              "      <td>2019-05-26 10:40:00</td>\n",
              "      <td>1</td>\n",
              "      <td>type1</td>\n",
              "    </tr>\n",
              "  </tbody>\n",
              "</table>\n",
              "</div>\n",
              "      <button class=\"colab-df-convert\" onclick=\"convertToInteractive('df-bab6e032-d998-4d9f-955f-cd3ba7a32c37')\"\n",
              "              title=\"Convert this dataframe to an interactive table.\"\n",
              "              style=\"display:none;\">\n",
              "        \n",
              "  <svg xmlns=\"http://www.w3.org/2000/svg\" height=\"24px\"viewBox=\"0 0 24 24\"\n",
              "       width=\"24px\">\n",
              "    <path d=\"M0 0h24v24H0V0z\" fill=\"none\"/>\n",
              "    <path d=\"M18.56 5.44l.94 2.06.94-2.06 2.06-.94-2.06-.94-.94-2.06-.94 2.06-2.06.94zm-11 1L8.5 8.5l.94-2.06 2.06-.94-2.06-.94L8.5 2.5l-.94 2.06-2.06.94zm10 10l.94 2.06.94-2.06 2.06-.94-2.06-.94-.94-2.06-.94 2.06-2.06.94z\"/><path d=\"M17.41 7.96l-1.37-1.37c-.4-.4-.92-.59-1.43-.59-.52 0-1.04.2-1.43.59L10.3 9.45l-7.72 7.72c-.78.78-.78 2.05 0 2.83L4 21.41c.39.39.9.59 1.41.59.51 0 1.02-.2 1.41-.59l7.78-7.78 2.81-2.81c.8-.78.8-2.07 0-2.86zM5.41 20L4 18.59l7.72-7.72 1.47 1.35L5.41 20z\"/>\n",
              "  </svg>\n",
              "      </button>\n",
              "      \n",
              "  <style>\n",
              "    .colab-df-container {\n",
              "      display:flex;\n",
              "      flex-wrap:wrap;\n",
              "      gap: 12px;\n",
              "    }\n",
              "\n",
              "    .colab-df-convert {\n",
              "      background-color: #E8F0FE;\n",
              "      border: none;\n",
              "      border-radius: 50%;\n",
              "      cursor: pointer;\n",
              "      display: none;\n",
              "      fill: #1967D2;\n",
              "      height: 32px;\n",
              "      padding: 0 0 0 0;\n",
              "      width: 32px;\n",
              "    }\n",
              "\n",
              "    .colab-df-convert:hover {\n",
              "      background-color: #E2EBFA;\n",
              "      box-shadow: 0px 1px 2px rgba(60, 64, 67, 0.3), 0px 1px 3px 1px rgba(60, 64, 67, 0.15);\n",
              "      fill: #174EA6;\n",
              "    }\n",
              "\n",
              "    [theme=dark] .colab-df-convert {\n",
              "      background-color: #3B4455;\n",
              "      fill: #D2E3FC;\n",
              "    }\n",
              "\n",
              "    [theme=dark] .colab-df-convert:hover {\n",
              "      background-color: #434B5C;\n",
              "      box-shadow: 0px 1px 3px 1px rgba(0, 0, 0, 0.15);\n",
              "      filter: drop-shadow(0px 1px 2px rgba(0, 0, 0, 0.3));\n",
              "      fill: #FFFFFF;\n",
              "    }\n",
              "  </style>\n",
              "\n",
              "      <script>\n",
              "        const buttonEl =\n",
              "          document.querySelector('#df-bab6e032-d998-4d9f-955f-cd3ba7a32c37 button.colab-df-convert');\n",
              "        buttonEl.style.display =\n",
              "          google.colab.kernel.accessAllowed ? 'block' : 'none';\n",
              "\n",
              "        async function convertToInteractive(key) {\n",
              "          const element = document.querySelector('#df-bab6e032-d998-4d9f-955f-cd3ba7a32c37');\n",
              "          const dataTable =\n",
              "            await google.colab.kernel.invokeFunction('convertToInteractive',\n",
              "                                                     [key], {});\n",
              "          if (!dataTable) return;\n",
              "\n",
              "          const docLinkHtml = 'Like what you see? Visit the ' +\n",
              "            '<a target=\"_blank\" href=https://colab.research.google.com/notebooks/data_table.ipynb>data table notebook</a>'\n",
              "            + ' to learn more about interactive tables.';\n",
              "          element.innerHTML = '';\n",
              "          dataTable['output_type'] = 'display_data';\n",
              "          await google.colab.output.renderOutput(dataTable, element);\n",
              "          const docLink = document.createElement('div');\n",
              "          docLink.innerHTML = docLinkHtml;\n",
              "          element.appendChild(docLink);\n",
              "        }\n",
              "      </script>\n",
              "    </div>\n",
              "  </div>\n",
              "  "
            ],
            "text/plain": [
              "  typeofaction  sourceid  ...  isfraud  typeoffraud\n",
              "0      cash-in     30105  ...        1        type1\n",
              "1      cash-in     30105  ...        1        type1\n",
              "2      cash-in     30105  ...        1        type1\n",
              "3      cash-in     30105  ...        1        type1\n",
              "4      cash-in     30105  ...        1        type1\n",
              "\n",
              "[5 rows x 7 columns]"
            ]
          },
          "metadata": {},
          "execution_count": 20
        }
      ],
      "source": [
        "# Mengimport data\n",
        "\n",
        "dataset = pd.read_csv(\"ML.csv\")\n",
        "dataset.head()"
      ]
    },
    {
      "cell_type": "code",
      "source": [
        "dataset"
      ],
      "metadata": {
        "colab": {
          "base_uri": "https://localhost:8080/",
          "height": 424
        },
        "id": "7z-XSPvBgUPf",
        "outputId": "38ccb1e6-add1-4eec-8ac2-d51ceb09421a"
      },
      "execution_count": null,
      "outputs": [
        {
          "output_type": "execute_result",
          "data": {
            "text/html": [
              "\n",
              "  <div id=\"df-f467cab7-2937-4956-8b3a-099bcc0cc9e4\">\n",
              "    <div class=\"colab-df-container\">\n",
              "      <div>\n",
              "<style scoped>\n",
              "    .dataframe tbody tr th:only-of-type {\n",
              "        vertical-align: middle;\n",
              "    }\n",
              "\n",
              "    .dataframe tbody tr th {\n",
              "        vertical-align: top;\n",
              "    }\n",
              "\n",
              "    .dataframe thead th {\n",
              "        text-align: right;\n",
              "    }\n",
              "</style>\n",
              "<table border=\"1\" class=\"dataframe\">\n",
              "  <thead>\n",
              "    <tr style=\"text-align: right;\">\n",
              "      <th></th>\n",
              "      <th>typeofaction</th>\n",
              "      <th>sourceid</th>\n",
              "      <th>destinationid</th>\n",
              "      <th>amountofmoney</th>\n",
              "      <th>date</th>\n",
              "      <th>isfraud</th>\n",
              "      <th>typeoffraud</th>\n",
              "    </tr>\n",
              "  </thead>\n",
              "  <tbody>\n",
              "    <tr>\n",
              "      <th>0</th>\n",
              "      <td>cash-in</td>\n",
              "      <td>30105</td>\n",
              "      <td>28942</td>\n",
              "      <td>494528</td>\n",
              "      <td>2019-07-19 14:40:00</td>\n",
              "      <td>1</td>\n",
              "      <td>type1</td>\n",
              "    </tr>\n",
              "    <tr>\n",
              "      <th>1</th>\n",
              "      <td>cash-in</td>\n",
              "      <td>30105</td>\n",
              "      <td>8692</td>\n",
              "      <td>494528</td>\n",
              "      <td>2019-05-17 14:57:00</td>\n",
              "      <td>1</td>\n",
              "      <td>type1</td>\n",
              "    </tr>\n",
              "    <tr>\n",
              "      <th>2</th>\n",
              "      <td>cash-in</td>\n",
              "      <td>30105</td>\n",
              "      <td>60094</td>\n",
              "      <td>494528</td>\n",
              "      <td>2019-07-20 13:20:00</td>\n",
              "      <td>1</td>\n",
              "      <td>type1</td>\n",
              "    </tr>\n",
              "    <tr>\n",
              "      <th>3</th>\n",
              "      <td>cash-in</td>\n",
              "      <td>30105</td>\n",
              "      <td>20575</td>\n",
              "      <td>494528</td>\n",
              "      <td>2019-07-03 14:15:00</td>\n",
              "      <td>1</td>\n",
              "      <td>type1</td>\n",
              "    </tr>\n",
              "    <tr>\n",
              "      <th>4</th>\n",
              "      <td>cash-in</td>\n",
              "      <td>30105</td>\n",
              "      <td>45938</td>\n",
              "      <td>494528</td>\n",
              "      <td>2019-05-26 10:40:00</td>\n",
              "      <td>1</td>\n",
              "      <td>type1</td>\n",
              "    </tr>\n",
              "    <tr>\n",
              "      <th>...</th>\n",
              "      <td>...</td>\n",
              "      <td>...</td>\n",
              "      <td>...</td>\n",
              "      <td>...</td>\n",
              "      <td>...</td>\n",
              "      <td>...</td>\n",
              "      <td>...</td>\n",
              "    </tr>\n",
              "    <tr>\n",
              "      <th>2335</th>\n",
              "      <td>transfer</td>\n",
              "      <td>14945</td>\n",
              "      <td>43793</td>\n",
              "      <td>106907</td>\n",
              "      <td>2019-03-29 14:53:00</td>\n",
              "      <td>0</td>\n",
              "      <td>none</td>\n",
              "    </tr>\n",
              "    <tr>\n",
              "      <th>2336</th>\n",
              "      <td>transfer</td>\n",
              "      <td>9532</td>\n",
              "      <td>43793</td>\n",
              "      <td>106907</td>\n",
              "      <td>2019-04-13 13:19:00</td>\n",
              "      <td>0</td>\n",
              "      <td>none</td>\n",
              "    </tr>\n",
              "    <tr>\n",
              "      <th>2337</th>\n",
              "      <td>transfer</td>\n",
              "      <td>27332</td>\n",
              "      <td>43793</td>\n",
              "      <td>106907</td>\n",
              "      <td>2019-05-10 09:34:00</td>\n",
              "      <td>0</td>\n",
              "      <td>none</td>\n",
              "    </tr>\n",
              "    <tr>\n",
              "      <th>2338</th>\n",
              "      <td>transfer</td>\n",
              "      <td>32685</td>\n",
              "      <td>43793</td>\n",
              "      <td>106907</td>\n",
              "      <td>2019-07-08 12:20:00</td>\n",
              "      <td>0</td>\n",
              "      <td>none</td>\n",
              "    </tr>\n",
              "    <tr>\n",
              "      <th>2339</th>\n",
              "      <td>transfer</td>\n",
              "      <td>26390</td>\n",
              "      <td>43793</td>\n",
              "      <td>106907</td>\n",
              "      <td>2019-03-25 13:52:00</td>\n",
              "      <td>0</td>\n",
              "      <td>none</td>\n",
              "    </tr>\n",
              "  </tbody>\n",
              "</table>\n",
              "<p>2340 rows × 7 columns</p>\n",
              "</div>\n",
              "      <button class=\"colab-df-convert\" onclick=\"convertToInteractive('df-f467cab7-2937-4956-8b3a-099bcc0cc9e4')\"\n",
              "              title=\"Convert this dataframe to an interactive table.\"\n",
              "              style=\"display:none;\">\n",
              "        \n",
              "  <svg xmlns=\"http://www.w3.org/2000/svg\" height=\"24px\"viewBox=\"0 0 24 24\"\n",
              "       width=\"24px\">\n",
              "    <path d=\"M0 0h24v24H0V0z\" fill=\"none\"/>\n",
              "    <path d=\"M18.56 5.44l.94 2.06.94-2.06 2.06-.94-2.06-.94-.94-2.06-.94 2.06-2.06.94zm-11 1L8.5 8.5l.94-2.06 2.06-.94-2.06-.94L8.5 2.5l-.94 2.06-2.06.94zm10 10l.94 2.06.94-2.06 2.06-.94-2.06-.94-.94-2.06-.94 2.06-2.06.94z\"/><path d=\"M17.41 7.96l-1.37-1.37c-.4-.4-.92-.59-1.43-.59-.52 0-1.04.2-1.43.59L10.3 9.45l-7.72 7.72c-.78.78-.78 2.05 0 2.83L4 21.41c.39.39.9.59 1.41.59.51 0 1.02-.2 1.41-.59l7.78-7.78 2.81-2.81c.8-.78.8-2.07 0-2.86zM5.41 20L4 18.59l7.72-7.72 1.47 1.35L5.41 20z\"/>\n",
              "  </svg>\n",
              "      </button>\n",
              "      \n",
              "  <style>\n",
              "    .colab-df-container {\n",
              "      display:flex;\n",
              "      flex-wrap:wrap;\n",
              "      gap: 12px;\n",
              "    }\n",
              "\n",
              "    .colab-df-convert {\n",
              "      background-color: #E8F0FE;\n",
              "      border: none;\n",
              "      border-radius: 50%;\n",
              "      cursor: pointer;\n",
              "      display: none;\n",
              "      fill: #1967D2;\n",
              "      height: 32px;\n",
              "      padding: 0 0 0 0;\n",
              "      width: 32px;\n",
              "    }\n",
              "\n",
              "    .colab-df-convert:hover {\n",
              "      background-color: #E2EBFA;\n",
              "      box-shadow: 0px 1px 2px rgba(60, 64, 67, 0.3), 0px 1px 3px 1px rgba(60, 64, 67, 0.15);\n",
              "      fill: #174EA6;\n",
              "    }\n",
              "\n",
              "    [theme=dark] .colab-df-convert {\n",
              "      background-color: #3B4455;\n",
              "      fill: #D2E3FC;\n",
              "    }\n",
              "\n",
              "    [theme=dark] .colab-df-convert:hover {\n",
              "      background-color: #434B5C;\n",
              "      box-shadow: 0px 1px 3px 1px rgba(0, 0, 0, 0.15);\n",
              "      filter: drop-shadow(0px 1px 2px rgba(0, 0, 0, 0.3));\n",
              "      fill: #FFFFFF;\n",
              "    }\n",
              "  </style>\n",
              "\n",
              "      <script>\n",
              "        const buttonEl =\n",
              "          document.querySelector('#df-f467cab7-2937-4956-8b3a-099bcc0cc9e4 button.colab-df-convert');\n",
              "        buttonEl.style.display =\n",
              "          google.colab.kernel.accessAllowed ? 'block' : 'none';\n",
              "\n",
              "        async function convertToInteractive(key) {\n",
              "          const element = document.querySelector('#df-f467cab7-2937-4956-8b3a-099bcc0cc9e4');\n",
              "          const dataTable =\n",
              "            await google.colab.kernel.invokeFunction('convertToInteractive',\n",
              "                                                     [key], {});\n",
              "          if (!dataTable) return;\n",
              "\n",
              "          const docLinkHtml = 'Like what you see? Visit the ' +\n",
              "            '<a target=\"_blank\" href=https://colab.research.google.com/notebooks/data_table.ipynb>data table notebook</a>'\n",
              "            + ' to learn more about interactive tables.';\n",
              "          element.innerHTML = '';\n",
              "          dataTable['output_type'] = 'display_data';\n",
              "          await google.colab.output.renderOutput(dataTable, element);\n",
              "          const docLink = document.createElement('div');\n",
              "          docLink.innerHTML = docLinkHtml;\n",
              "          element.appendChild(docLink);\n",
              "        }\n",
              "      </script>\n",
              "    </div>\n",
              "  </div>\n",
              "  "
            ],
            "text/plain": [
              "     typeofaction  sourceid  ...  isfraud  typeoffraud\n",
              "0         cash-in     30105  ...        1        type1\n",
              "1         cash-in     30105  ...        1        type1\n",
              "2         cash-in     30105  ...        1        type1\n",
              "3         cash-in     30105  ...        1        type1\n",
              "4         cash-in     30105  ...        1        type1\n",
              "...           ...       ...  ...      ...          ...\n",
              "2335     transfer     14945  ...        0         none\n",
              "2336     transfer      9532  ...        0         none\n",
              "2337     transfer     27332  ...        0         none\n",
              "2338     transfer     32685  ...        0         none\n",
              "2339     transfer     26390  ...        0         none\n",
              "\n",
              "[2340 rows x 7 columns]"
            ]
          },
          "metadata": {},
          "execution_count": 21
        }
      ]
    },
    {
      "cell_type": "code",
      "source": [
        "# Menampilkan informasi mengenai dataset\n",
        "\n",
        "dataset.info()"
      ],
      "metadata": {
        "colab": {
          "base_uri": "https://localhost:8080/"
        },
        "id": "9KhsMNyDXKEq",
        "outputId": "782637ce-daa9-4074-ab3b-28b09d9cb401"
      },
      "execution_count": null,
      "outputs": [
        {
          "output_type": "stream",
          "name": "stdout",
          "text": [
            "<class 'pandas.core.frame.DataFrame'>\n",
            "RangeIndex: 2340 entries, 0 to 2339\n",
            "Data columns (total 7 columns):\n",
            " #   Column         Non-Null Count  Dtype \n",
            "---  ------         --------------  ----- \n",
            " 0   typeofaction   2340 non-null   object\n",
            " 1   sourceid       2340 non-null   int64 \n",
            " 2   destinationid  2340 non-null   int64 \n",
            " 3   amountofmoney  2340 non-null   int64 \n",
            " 4   date           2340 non-null   object\n",
            " 5   isfraud        2340 non-null   int64 \n",
            " 6   typeoffraud    2340 non-null   object\n",
            "dtypes: int64(4), object(3)\n",
            "memory usage: 128.1+ KB\n"
          ]
        }
      ]
    },
    {
      "cell_type": "code",
      "execution_count": null,
      "metadata": {
        "colab": {
          "base_uri": "https://localhost:8080/"
        },
        "id": "9PhHTER8keg2",
        "outputId": "43a453e3-c5d4-487e-c2eb-7ec74588adaf"
      },
      "outputs": [
        {
          "output_type": "execute_result",
          "data": {
            "text/plain": [
              "<bound method NDFrame.head of      typeofaction  sourceid  destinationid  amountofmoney  isfraud typeoffraud\n",
              "0         cash-in     30105          28942         494528        1       type1\n",
              "1         cash-in     30105           8692         494528        1       type1\n",
              "2         cash-in     30105          60094         494528        1       type1\n",
              "3         cash-in     30105          20575         494528        1       type1\n",
              "4         cash-in     30105          45938         494528        1       type1\n",
              "...           ...       ...            ...            ...      ...         ...\n",
              "2335     transfer     14945          43793         106907        0        none\n",
              "2336     transfer      9532          43793         106907        0        none\n",
              "2337     transfer     27332          43793         106907        0        none\n",
              "2338     transfer     32685          43793         106907        0        none\n",
              "2339     transfer     26390          43793         106907        0        none\n",
              "\n",
              "[2340 rows x 6 columns]>"
            ]
          },
          "metadata": {},
          "execution_count": 23
        }
      ],
      "source": [
        "# Menghapus kolom yang tidak diperlukan\n",
        "\n",
        "dataset.drop('date', axis=1, inplace=True)\n",
        "dataset.head"
      ]
    },
    {
      "cell_type": "code",
      "source": [
        "dataset"
      ],
      "metadata": {
        "colab": {
          "base_uri": "https://localhost:8080/",
          "height": 424
        },
        "id": "h77VRZD-27Eb",
        "outputId": "fb536c24-72f4-4447-9c1c-cd8075d02d54"
      },
      "execution_count": null,
      "outputs": [
        {
          "output_type": "execute_result",
          "data": {
            "text/html": [
              "\n",
              "  <div id=\"df-3e9fe171-63a2-4042-afa7-ed3faaee61d5\">\n",
              "    <div class=\"colab-df-container\">\n",
              "      <div>\n",
              "<style scoped>\n",
              "    .dataframe tbody tr th:only-of-type {\n",
              "        vertical-align: middle;\n",
              "    }\n",
              "\n",
              "    .dataframe tbody tr th {\n",
              "        vertical-align: top;\n",
              "    }\n",
              "\n",
              "    .dataframe thead th {\n",
              "        text-align: right;\n",
              "    }\n",
              "</style>\n",
              "<table border=\"1\" class=\"dataframe\">\n",
              "  <thead>\n",
              "    <tr style=\"text-align: right;\">\n",
              "      <th></th>\n",
              "      <th>typeofaction</th>\n",
              "      <th>sourceid</th>\n",
              "      <th>destinationid</th>\n",
              "      <th>amountofmoney</th>\n",
              "      <th>isfraud</th>\n",
              "      <th>typeoffraud</th>\n",
              "    </tr>\n",
              "  </thead>\n",
              "  <tbody>\n",
              "    <tr>\n",
              "      <th>0</th>\n",
              "      <td>cash-in</td>\n",
              "      <td>30105</td>\n",
              "      <td>28942</td>\n",
              "      <td>494528</td>\n",
              "      <td>1</td>\n",
              "      <td>type1</td>\n",
              "    </tr>\n",
              "    <tr>\n",
              "      <th>1</th>\n",
              "      <td>cash-in</td>\n",
              "      <td>30105</td>\n",
              "      <td>8692</td>\n",
              "      <td>494528</td>\n",
              "      <td>1</td>\n",
              "      <td>type1</td>\n",
              "    </tr>\n",
              "    <tr>\n",
              "      <th>2</th>\n",
              "      <td>cash-in</td>\n",
              "      <td>30105</td>\n",
              "      <td>60094</td>\n",
              "      <td>494528</td>\n",
              "      <td>1</td>\n",
              "      <td>type1</td>\n",
              "    </tr>\n",
              "    <tr>\n",
              "      <th>3</th>\n",
              "      <td>cash-in</td>\n",
              "      <td>30105</td>\n",
              "      <td>20575</td>\n",
              "      <td>494528</td>\n",
              "      <td>1</td>\n",
              "      <td>type1</td>\n",
              "    </tr>\n",
              "    <tr>\n",
              "      <th>4</th>\n",
              "      <td>cash-in</td>\n",
              "      <td>30105</td>\n",
              "      <td>45938</td>\n",
              "      <td>494528</td>\n",
              "      <td>1</td>\n",
              "      <td>type1</td>\n",
              "    </tr>\n",
              "    <tr>\n",
              "      <th>...</th>\n",
              "      <td>...</td>\n",
              "      <td>...</td>\n",
              "      <td>...</td>\n",
              "      <td>...</td>\n",
              "      <td>...</td>\n",
              "      <td>...</td>\n",
              "    </tr>\n",
              "    <tr>\n",
              "      <th>2335</th>\n",
              "      <td>transfer</td>\n",
              "      <td>14945</td>\n",
              "      <td>43793</td>\n",
              "      <td>106907</td>\n",
              "      <td>0</td>\n",
              "      <td>none</td>\n",
              "    </tr>\n",
              "    <tr>\n",
              "      <th>2336</th>\n",
              "      <td>transfer</td>\n",
              "      <td>9532</td>\n",
              "      <td>43793</td>\n",
              "      <td>106907</td>\n",
              "      <td>0</td>\n",
              "      <td>none</td>\n",
              "    </tr>\n",
              "    <tr>\n",
              "      <th>2337</th>\n",
              "      <td>transfer</td>\n",
              "      <td>27332</td>\n",
              "      <td>43793</td>\n",
              "      <td>106907</td>\n",
              "      <td>0</td>\n",
              "      <td>none</td>\n",
              "    </tr>\n",
              "    <tr>\n",
              "      <th>2338</th>\n",
              "      <td>transfer</td>\n",
              "      <td>32685</td>\n",
              "      <td>43793</td>\n",
              "      <td>106907</td>\n",
              "      <td>0</td>\n",
              "      <td>none</td>\n",
              "    </tr>\n",
              "    <tr>\n",
              "      <th>2339</th>\n",
              "      <td>transfer</td>\n",
              "      <td>26390</td>\n",
              "      <td>43793</td>\n",
              "      <td>106907</td>\n",
              "      <td>0</td>\n",
              "      <td>none</td>\n",
              "    </tr>\n",
              "  </tbody>\n",
              "</table>\n",
              "<p>2340 rows × 6 columns</p>\n",
              "</div>\n",
              "      <button class=\"colab-df-convert\" onclick=\"convertToInteractive('df-3e9fe171-63a2-4042-afa7-ed3faaee61d5')\"\n",
              "              title=\"Convert this dataframe to an interactive table.\"\n",
              "              style=\"display:none;\">\n",
              "        \n",
              "  <svg xmlns=\"http://www.w3.org/2000/svg\" height=\"24px\"viewBox=\"0 0 24 24\"\n",
              "       width=\"24px\">\n",
              "    <path d=\"M0 0h24v24H0V0z\" fill=\"none\"/>\n",
              "    <path d=\"M18.56 5.44l.94 2.06.94-2.06 2.06-.94-2.06-.94-.94-2.06-.94 2.06-2.06.94zm-11 1L8.5 8.5l.94-2.06 2.06-.94-2.06-.94L8.5 2.5l-.94 2.06-2.06.94zm10 10l.94 2.06.94-2.06 2.06-.94-2.06-.94-.94-2.06-.94 2.06-2.06.94z\"/><path d=\"M17.41 7.96l-1.37-1.37c-.4-.4-.92-.59-1.43-.59-.52 0-1.04.2-1.43.59L10.3 9.45l-7.72 7.72c-.78.78-.78 2.05 0 2.83L4 21.41c.39.39.9.59 1.41.59.51 0 1.02-.2 1.41-.59l7.78-7.78 2.81-2.81c.8-.78.8-2.07 0-2.86zM5.41 20L4 18.59l7.72-7.72 1.47 1.35L5.41 20z\"/>\n",
              "  </svg>\n",
              "      </button>\n",
              "      \n",
              "  <style>\n",
              "    .colab-df-container {\n",
              "      display:flex;\n",
              "      flex-wrap:wrap;\n",
              "      gap: 12px;\n",
              "    }\n",
              "\n",
              "    .colab-df-convert {\n",
              "      background-color: #E8F0FE;\n",
              "      border: none;\n",
              "      border-radius: 50%;\n",
              "      cursor: pointer;\n",
              "      display: none;\n",
              "      fill: #1967D2;\n",
              "      height: 32px;\n",
              "      padding: 0 0 0 0;\n",
              "      width: 32px;\n",
              "    }\n",
              "\n",
              "    .colab-df-convert:hover {\n",
              "      background-color: #E2EBFA;\n",
              "      box-shadow: 0px 1px 2px rgba(60, 64, 67, 0.3), 0px 1px 3px 1px rgba(60, 64, 67, 0.15);\n",
              "      fill: #174EA6;\n",
              "    }\n",
              "\n",
              "    [theme=dark] .colab-df-convert {\n",
              "      background-color: #3B4455;\n",
              "      fill: #D2E3FC;\n",
              "    }\n",
              "\n",
              "    [theme=dark] .colab-df-convert:hover {\n",
              "      background-color: #434B5C;\n",
              "      box-shadow: 0px 1px 3px 1px rgba(0, 0, 0, 0.15);\n",
              "      filter: drop-shadow(0px 1px 2px rgba(0, 0, 0, 0.3));\n",
              "      fill: #FFFFFF;\n",
              "    }\n",
              "  </style>\n",
              "\n",
              "      <script>\n",
              "        const buttonEl =\n",
              "          document.querySelector('#df-3e9fe171-63a2-4042-afa7-ed3faaee61d5 button.colab-df-convert');\n",
              "        buttonEl.style.display =\n",
              "          google.colab.kernel.accessAllowed ? 'block' : 'none';\n",
              "\n",
              "        async function convertToInteractive(key) {\n",
              "          const element = document.querySelector('#df-3e9fe171-63a2-4042-afa7-ed3faaee61d5');\n",
              "          const dataTable =\n",
              "            await google.colab.kernel.invokeFunction('convertToInteractive',\n",
              "                                                     [key], {});\n",
              "          if (!dataTable) return;\n",
              "\n",
              "          const docLinkHtml = 'Like what you see? Visit the ' +\n",
              "            '<a target=\"_blank\" href=https://colab.research.google.com/notebooks/data_table.ipynb>data table notebook</a>'\n",
              "            + ' to learn more about interactive tables.';\n",
              "          element.innerHTML = '';\n",
              "          dataTable['output_type'] = 'display_data';\n",
              "          await google.colab.output.renderOutput(dataTable, element);\n",
              "          const docLink = document.createElement('div');\n",
              "          docLink.innerHTML = docLinkHtml;\n",
              "          element.appendChild(docLink);\n",
              "        }\n",
              "      </script>\n",
              "    </div>\n",
              "  </div>\n",
              "  "
            ],
            "text/plain": [
              "     typeofaction  sourceid  destinationid  amountofmoney  isfraud typeoffraud\n",
              "0         cash-in     30105          28942         494528        1       type1\n",
              "1         cash-in     30105           8692         494528        1       type1\n",
              "2         cash-in     30105          60094         494528        1       type1\n",
              "3         cash-in     30105          20575         494528        1       type1\n",
              "4         cash-in     30105          45938         494528        1       type1\n",
              "...           ...       ...            ...            ...      ...         ...\n",
              "2335     transfer     14945          43793         106907        0        none\n",
              "2336     transfer      9532          43793         106907        0        none\n",
              "2337     transfer     27332          43793         106907        0        none\n",
              "2338     transfer     32685          43793         106907        0        none\n",
              "2339     transfer     26390          43793         106907        0        none\n",
              "\n",
              "[2340 rows x 6 columns]"
            ]
          },
          "metadata": {},
          "execution_count": 24
        }
      ]
    },
    {
      "cell_type": "code",
      "execution_count": null,
      "metadata": {
        "colab": {
          "base_uri": "https://localhost:8080/"
        },
        "id": "ol1S0zBmoR2D",
        "outputId": "0437bf56-5f24-4842-c12a-92cbfe940066"
      },
      "outputs": [
        {
          "output_type": "execute_result",
          "data": {
            "text/plain": [
              "typeofaction     0\n",
              "sourceid         0\n",
              "destinationid    0\n",
              "amountofmoney    0\n",
              "isfraud          0\n",
              "typeoffraud      0\n",
              "dtype: int64"
            ]
          },
          "metadata": {},
          "execution_count": 25
        }
      ],
      "source": [
        "# Mencari nilai null pada dataset\n",
        "\n",
        "dataset.isna().sum()"
      ]
    },
    {
      "cell_type": "code",
      "source": [
        "# transformasi data\n",
        "\n",
        "dataset.loc[dataset['typeofaction'] == 'cash-in', 'typeofaction'] = 1\n",
        "dataset.loc[dataset['typeofaction'] == 'transfer', 'typeofaction'] = 2\n",
        "dataset.loc[dataset['typeoffraud'] == 'type1', 'typeoffraud'] = 1\n",
        "dataset.loc[dataset['typeoffraud'] == 'type2', 'typeoffraud'] = 2\n",
        "dataset.loc[dataset['typeoffraud'] == 'type3', 'typeoffraud'] = 3\n",
        "dataset.loc[dataset['typeoffraud'] == 'none', 'typeoffraud'] = 0\n",
        "\n",
        "dataset = dataset.apply(pd.to_numeric, errors=\"ignore\")\n",
        "dataset.head()"
      ],
      "metadata": {
        "colab": {
          "base_uri": "https://localhost:8080/",
          "height": 206
        },
        "id": "SKmCdVAVrXu5",
        "outputId": "06b498ca-b813-4bd0-ca70-85160924f3eb"
      },
      "execution_count": null,
      "outputs": [
        {
          "output_type": "execute_result",
          "data": {
            "text/html": [
              "\n",
              "  <div id=\"df-10412669-3559-4e4f-a404-6dc39ae8d824\">\n",
              "    <div class=\"colab-df-container\">\n",
              "      <div>\n",
              "<style scoped>\n",
              "    .dataframe tbody tr th:only-of-type {\n",
              "        vertical-align: middle;\n",
              "    }\n",
              "\n",
              "    .dataframe tbody tr th {\n",
              "        vertical-align: top;\n",
              "    }\n",
              "\n",
              "    .dataframe thead th {\n",
              "        text-align: right;\n",
              "    }\n",
              "</style>\n",
              "<table border=\"1\" class=\"dataframe\">\n",
              "  <thead>\n",
              "    <tr style=\"text-align: right;\">\n",
              "      <th></th>\n",
              "      <th>typeofaction</th>\n",
              "      <th>sourceid</th>\n",
              "      <th>destinationid</th>\n",
              "      <th>amountofmoney</th>\n",
              "      <th>isfraud</th>\n",
              "      <th>typeoffraud</th>\n",
              "    </tr>\n",
              "  </thead>\n",
              "  <tbody>\n",
              "    <tr>\n",
              "      <th>0</th>\n",
              "      <td>1</td>\n",
              "      <td>30105</td>\n",
              "      <td>28942</td>\n",
              "      <td>494528</td>\n",
              "      <td>1</td>\n",
              "      <td>1</td>\n",
              "    </tr>\n",
              "    <tr>\n",
              "      <th>1</th>\n",
              "      <td>1</td>\n",
              "      <td>30105</td>\n",
              "      <td>8692</td>\n",
              "      <td>494528</td>\n",
              "      <td>1</td>\n",
              "      <td>1</td>\n",
              "    </tr>\n",
              "    <tr>\n",
              "      <th>2</th>\n",
              "      <td>1</td>\n",
              "      <td>30105</td>\n",
              "      <td>60094</td>\n",
              "      <td>494528</td>\n",
              "      <td>1</td>\n",
              "      <td>1</td>\n",
              "    </tr>\n",
              "    <tr>\n",
              "      <th>3</th>\n",
              "      <td>1</td>\n",
              "      <td>30105</td>\n",
              "      <td>20575</td>\n",
              "      <td>494528</td>\n",
              "      <td>1</td>\n",
              "      <td>1</td>\n",
              "    </tr>\n",
              "    <tr>\n",
              "      <th>4</th>\n",
              "      <td>1</td>\n",
              "      <td>30105</td>\n",
              "      <td>45938</td>\n",
              "      <td>494528</td>\n",
              "      <td>1</td>\n",
              "      <td>1</td>\n",
              "    </tr>\n",
              "  </tbody>\n",
              "</table>\n",
              "</div>\n",
              "      <button class=\"colab-df-convert\" onclick=\"convertToInteractive('df-10412669-3559-4e4f-a404-6dc39ae8d824')\"\n",
              "              title=\"Convert this dataframe to an interactive table.\"\n",
              "              style=\"display:none;\">\n",
              "        \n",
              "  <svg xmlns=\"http://www.w3.org/2000/svg\" height=\"24px\"viewBox=\"0 0 24 24\"\n",
              "       width=\"24px\">\n",
              "    <path d=\"M0 0h24v24H0V0z\" fill=\"none\"/>\n",
              "    <path d=\"M18.56 5.44l.94 2.06.94-2.06 2.06-.94-2.06-.94-.94-2.06-.94 2.06-2.06.94zm-11 1L8.5 8.5l.94-2.06 2.06-.94-2.06-.94L8.5 2.5l-.94 2.06-2.06.94zm10 10l.94 2.06.94-2.06 2.06-.94-2.06-.94-.94-2.06-.94 2.06-2.06.94z\"/><path d=\"M17.41 7.96l-1.37-1.37c-.4-.4-.92-.59-1.43-.59-.52 0-1.04.2-1.43.59L10.3 9.45l-7.72 7.72c-.78.78-.78 2.05 0 2.83L4 21.41c.39.39.9.59 1.41.59.51 0 1.02-.2 1.41-.59l7.78-7.78 2.81-2.81c.8-.78.8-2.07 0-2.86zM5.41 20L4 18.59l7.72-7.72 1.47 1.35L5.41 20z\"/>\n",
              "  </svg>\n",
              "      </button>\n",
              "      \n",
              "  <style>\n",
              "    .colab-df-container {\n",
              "      display:flex;\n",
              "      flex-wrap:wrap;\n",
              "      gap: 12px;\n",
              "    }\n",
              "\n",
              "    .colab-df-convert {\n",
              "      background-color: #E8F0FE;\n",
              "      border: none;\n",
              "      border-radius: 50%;\n",
              "      cursor: pointer;\n",
              "      display: none;\n",
              "      fill: #1967D2;\n",
              "      height: 32px;\n",
              "      padding: 0 0 0 0;\n",
              "      width: 32px;\n",
              "    }\n",
              "\n",
              "    .colab-df-convert:hover {\n",
              "      background-color: #E2EBFA;\n",
              "      box-shadow: 0px 1px 2px rgba(60, 64, 67, 0.3), 0px 1px 3px 1px rgba(60, 64, 67, 0.15);\n",
              "      fill: #174EA6;\n",
              "    }\n",
              "\n",
              "    [theme=dark] .colab-df-convert {\n",
              "      background-color: #3B4455;\n",
              "      fill: #D2E3FC;\n",
              "    }\n",
              "\n",
              "    [theme=dark] .colab-df-convert:hover {\n",
              "      background-color: #434B5C;\n",
              "      box-shadow: 0px 1px 3px 1px rgba(0, 0, 0, 0.15);\n",
              "      filter: drop-shadow(0px 1px 2px rgba(0, 0, 0, 0.3));\n",
              "      fill: #FFFFFF;\n",
              "    }\n",
              "  </style>\n",
              "\n",
              "      <script>\n",
              "        const buttonEl =\n",
              "          document.querySelector('#df-10412669-3559-4e4f-a404-6dc39ae8d824 button.colab-df-convert');\n",
              "        buttonEl.style.display =\n",
              "          google.colab.kernel.accessAllowed ? 'block' : 'none';\n",
              "\n",
              "        async function convertToInteractive(key) {\n",
              "          const element = document.querySelector('#df-10412669-3559-4e4f-a404-6dc39ae8d824');\n",
              "          const dataTable =\n",
              "            await google.colab.kernel.invokeFunction('convertToInteractive',\n",
              "                                                     [key], {});\n",
              "          if (!dataTable) return;\n",
              "\n",
              "          const docLinkHtml = 'Like what you see? Visit the ' +\n",
              "            '<a target=\"_blank\" href=https://colab.research.google.com/notebooks/data_table.ipynb>data table notebook</a>'\n",
              "            + ' to learn more about interactive tables.';\n",
              "          element.innerHTML = '';\n",
              "          dataTable['output_type'] = 'display_data';\n",
              "          await google.colab.output.renderOutput(dataTable, element);\n",
              "          const docLink = document.createElement('div');\n",
              "          docLink.innerHTML = docLinkHtml;\n",
              "          element.appendChild(docLink);\n",
              "        }\n",
              "      </script>\n",
              "    </div>\n",
              "  </div>\n",
              "  "
            ],
            "text/plain": [
              "   typeofaction  sourceid  destinationid  amountofmoney  isfraud  typeoffraud\n",
              "0             1     30105          28942         494528        1            1\n",
              "1             1     30105           8692         494528        1            1\n",
              "2             1     30105          60094         494528        1            1\n",
              "3             1     30105          20575         494528        1            1\n",
              "4             1     30105          45938         494528        1            1"
            ]
          },
          "metadata": {},
          "execution_count": 26
        }
      ]
    },
    {
      "cell_type": "code",
      "execution_count": null,
      "metadata": {
        "colab": {
          "base_uri": "https://localhost:8080/"
        },
        "id": "LF2sei3wianr",
        "outputId": "308c117a-e7c8-4e9d-d0b5-c7eb4b21dc34"
      },
      "outputs": [
        {
          "output_type": "stream",
          "name": "stdout",
          "text": [
            "<class 'pandas.core.frame.DataFrame'>\n",
            "RangeIndex: 2340 entries, 0 to 2339\n",
            "Data columns (total 6 columns):\n",
            " #   Column         Non-Null Count  Dtype\n",
            "---  ------         --------------  -----\n",
            " 0   typeofaction   2340 non-null   int64\n",
            " 1   sourceid       2340 non-null   int64\n",
            " 2   destinationid  2340 non-null   int64\n",
            " 3   amountofmoney  2340 non-null   int64\n",
            " 4   isfraud        2340 non-null   int64\n",
            " 5   typeoffraud    2340 non-null   int64\n",
            "dtypes: int64(6)\n",
            "memory usage: 109.8 KB\n"
          ]
        }
      ],
      "source": [
        "# Menampilkan informasi mengenai dataset setelah transformasi data\n",
        "\n",
        "dataset.info()"
      ]
    },
    {
      "cell_type": "code",
      "execution_count": null,
      "metadata": {
        "colab": {
          "base_uri": "https://localhost:8080/",
          "height": 504
        },
        "id": "ZnQSJWHhirRr",
        "outputId": "9e4f04b3-11b4-4ec6-cd10-c9e5fd103aa3"
      },
      "outputs": [
        {
          "output_type": "execute_result",
          "data": {
            "text/plain": [
              "<matplotlib.axes._subplots.AxesSubplot at 0x7fce6febbc10>"
            ]
          },
          "metadata": {},
          "execution_count": 28
        },
        {
          "output_type": "display_data",
          "data": {
            "image/png": "[encoded data removed]",
            "text/plain": [
              "<Figure size 720x576 with 2 Axes>"
            ]
          },
          "metadata": {
            "needs_background": "light"
          }
        }
      ],
      "source": [
        "correlation = dataset.corr(method='pearson')\n",
        "\n",
        "fig, ax = plt.subplots(figsize = (10, 8))\n",
        "sns.heatmap(correlation, center = 0, cmap = \"Blues\", annot = True)"
      ]
    },
    {
      "cell_type": "code",
      "source": [
        "print('Covariance diantara typeoffraud dan sourceid : ', dataset.typeoffraud.cov(dataset.sourceid))\n",
        "print('Covariance diantara typeoffraud dan destinationid : ', dataset.typeoffraud.cov(dataset.destinationid))\n",
        "print('Covariance diantara typeoffraud dan amountofmoney : ', dataset.typeoffraud.cov(dataset.amountofmoney))\n",
        "print('Covariance diantara typeoffraud dan isfraud : ', dataset.typeoffraud.cov(dataset.isfraud))"
      ],
      "metadata": {
        "colab": {
          "base_uri": "https://localhost:8080/"
        },
        "id": "dSmruU8wtBD4",
        "outputId": "84be2472-1b22-4e64-a075-1f4fcb7ff0b0"
      },
      "execution_count": null,
      "outputs": [
        {
          "output_type": "stream",
          "name": "stdout",
          "text": [
            "Covariance diantara typeoffraud dan sourceid :  333.15934159897375\n",
            "Covariance diantara typeoffraud dan destinationid :  4907.632036482824\n",
            "Covariance diantara typeoffraud dan amountofmoney :  -115735.43468718788\n",
            "Covariance diantara typeoffraud dan isfraud :  0.49618070400456\n"
          ]
        }
      ]
    },
    {
      "cell_type": "code",
      "source": [
        "#print('Covariance diantara sourceid dan typeoffraud : ', dataset.sourceid.cov(dataset.typeoffraud))\n",
        "\n",
        "print('Covariance diantara typeofaction dan sourceid : ', dataset.typeofaction.cov(dataset.sourceid))\n",
        "print('Covariance diantara typeofaction dan destinationid : ', dataset.typeofaction.cov(dataset.destinationid))\n",
        "print('Covariance diantara typeofaction dan amountofmoney : ', dataset.typeofaction.cov(dataset.amountofmoney))\n",
        "print('Covariance diantara typeofaction dan isfraud : ', dataset.typeofaction.cov(dataset.isfraud))\n",
        "print('Covariance diantara typeofaction dan typeoffraud : ', dataset.typeofaction.cov(dataset.typeoffraud))\n",
        "print('Covariance diantara sourceid dan destinationid : ', dataset.sourceid.cov(dataset.destinationid))\n",
        "print('Covariance diantara sourceid dan amountofmoney : ', dataset.sourceid.cov(dataset.amountofmoney))\n",
        "print('Covariance diantara sourceid dan isfraud : ', dataset.sourceid.cov(dataset.isfraud))\n",
        "print('Covariance diantara sourceid dan typeoffraud : ', dataset.sourceid.cov(dataset.typeoffraud))\n",
        "print('Covariance diantara destinationid dan amountofmoney : ', dataset.destinationid.cov(dataset.amountofmoney))\n",
        "print('Covariance diantara destinationid dan isfraud : ', dataset.destinationid.cov(dataset.isfraud))\n",
        "print('Covariance diantara destinationid dan typeoffraud : ', dataset.destinationid.cov(dataset.typeoffraud))\n",
        "print('Covariance diantara amountofmoney dan isfraud : ', dataset.amountofmoney.cov(dataset.isfraud))\n",
        "print('Covariance diantara amountofmoney dan typeoffraud : ', dataset.amountofmoney.cov(dataset.typeoffraud))\n",
        "print('Covariance diantara isfraud dan typeooffraud : ', dataset.isfraud.cov(dataset.typeoffraud))"
      ],
      "metadata": {
        "colab": {
          "base_uri": "https://localhost:8080/"
        },
        "id": "KMREM972_gOc",
        "outputId": "a83e4e71-c3fb-4f16-faa2-db8562eda1ac"
      },
      "execution_count": null,
      "outputs": [
        {
          "output_type": "stream",
          "name": "stdout",
          "text": [
            "Covariance diantara typeofaction dan sourceid :  41.42364148606188\n",
            "Covariance diantara typeofaction dan destinationid :  1093.7183799052127\n",
            "Covariance diantara typeofaction dan amountofmoney :  341531.9125713008\n",
            "Covariance diantara typeofaction dan isfraud :  0.013414308839704141\n",
            "Covariance diantara typeofaction dan typeoffraud :  0.21989454182699233\n",
            "Covariance diantara sourceid dan destinationid :  1764413.2349185124\n",
            "Covariance diantara sourceid dan amountofmoney :  3478648856.064901\n",
            "Covariance diantara sourceid dan isfraud :  400.75291818769784\n",
            "Covariance diantara sourceid dan typeoffraud :  333.15934159897375\n",
            "Covariance diantara destinationid dan amountofmoney :  -5893692678.0626955\n",
            "Covariance diantara destinationid dan isfraud :  1194.9455297208617\n",
            "Covariance diantara destinationid dan typeoffraud :  4907.632036482824\n",
            "Covariance diantara amountofmoney dan isfraud :  -8738.733707881565\n",
            "Covariance diantara amountofmoney dan typeoffraud :  -115735.43468718788\n",
            "Covariance diantara isfraud dan typeooffraud :  0.49618070400456\n"
          ]
        }
      ]
    },
    {
      "cell_type": "code",
      "source": [
        "# Menghitung nilai pearson correlation dari kolom sourceid dan typeoffraud\n",
        "# Menghitung nilai pearson correlation dari kolom typeofaction dan sourceid\n",
        "\n",
        "pc1 = dataset.loc[:, ['typeofaction', 'sourceid']].corr(method = 'pearson')\n",
        "pc2 = dataset.typeofaction.cov(dataset.sourceid) / (dataset.typeofaction.std() * dataset.sourceid.std())\n",
        "print('PEARSON CORRELATION')\n",
        "print(pc1)\n",
        "print('Pearson Correlation : ', pc2)"
      ],
      "metadata": {
        "colab": {
          "base_uri": "https://localhost:8080/"
        },
        "id": "LBgnkIBQrzjc",
        "outputId": "f5e9d71e-8924-4b0d-ae01-53f1ee8fee10"
      },
      "execution_count": null,
      "outputs": [
        {
          "output_type": "stream",
          "name": "stdout",
          "text": [
            "PEARSON CORRELATION\n",
            "              typeofaction  sourceid\n",
            "typeofaction      1.000000  0.002986\n",
            "sourceid          0.002986  1.000000\n",
            "Pearson Correlation :  0.002986293168985461\n"
          ]
        }
      ]
    },
    {
      "cell_type": "code",
      "source": [
        "# Menghitung nilai pearson correlation dari kolom destinationid dan typeoffraud\n",
        "# Menghitung nilai pearson correlation dari kolom typeofaction dan destinationid\n",
        "\n",
        "pc1 = dataset.loc[:, ['typeofaction', 'destinationid']].corr(method = 'pearson')\n",
        "pc2 = dataset.typeofaction.cov(dataset.destinationid) / (dataset.typeofaction.std() * dataset.destinationid.std())\n",
        "print('PEARSON CORRELATION')\n",
        "print(pc1)\n",
        "print('Pearson Correlation : ', pc2)"
      ],
      "metadata": {
        "colab": {
          "base_uri": "https://localhost:8080/"
        },
        "id": "e_eak8ncuMjo",
        "outputId": "912dd929-7001-4052-b025-c4e1fda558e7"
      },
      "execution_count": null,
      "outputs": [
        {
          "output_type": "stream",
          "name": "stdout",
          "text": [
            "PEARSON CORRELATION\n",
            "               typeofaction  destinationid\n",
            "typeofaction       1.000000       0.080549\n",
            "destinationid      0.080549       1.000000\n",
            "Pearson Correlation :  0.08054939163727518\n"
          ]
        }
      ]
    },
    {
      "cell_type": "code",
      "source": [
        "# Menghitung nilai pearson correlation dari kolom amountofmoney dan typeoffraud\n",
        "# Menghitung nilai pearson correlation dari kolom typeofaction dan amountofmoney\n",
        "\n",
        "pc1 = dataset.loc[:, ['typeofaction', 'amountofmoney']].corr(method = 'pearson')\n",
        "pc2 = dataset.typeofaction.cov(dataset.amountofmoney) / (dataset.typeofaction.std() * dataset.amountofmoney.std())\n",
        "print('PEARSON CORRELATION')\n",
        "print(pc1)\n",
        "print('Pearson Correlation : ', pc2)"
      ],
      "metadata": {
        "colab": {
          "base_uri": "https://localhost:8080/"
        },
        "id": "e1iN9K5OuaQW",
        "outputId": "f74eb393-3e3f-4e38-9d92-a035fff44165"
      },
      "execution_count": null,
      "outputs": [
        {
          "output_type": "stream",
          "name": "stdout",
          "text": [
            "PEARSON CORRELATION\n",
            "               typeofaction  amountofmoney\n",
            "typeofaction       1.000000       0.284777\n",
            "amountofmoney      0.284777       1.000000\n",
            "Pearson Correlation :  0.28477736730397046\n"
          ]
        }
      ]
    },
    {
      "cell_type": "code",
      "source": [
        "# Menghitung nilai pearson correlation dari kolom isfraud dan typeoffraud\n",
        "# Menghitung nilai pearson correlation dari kolom typeofaction dan isfraud\n",
        "\n",
        "pc1 = dataset.loc[:, ['typeofaction', 'isfraud']].corr(method = 'pearson')\n",
        "pc2 = dataset.typeofaction.cov(dataset.isfraud) / (dataset.typeofaction.std() * dataset.isfraud.std())\n",
        "print('PEARSON CORRELATION')\n",
        "print(pc1)\n",
        "print('Pearson Correlation : ', pc2)"
      ],
      "metadata": {
        "colab": {
          "base_uri": "https://localhost:8080/"
        },
        "id": "PoHlNeNKAamb",
        "outputId": "2e8960c1-43e8-4d41-88b4-c61d5c781d9a"
      },
      "execution_count": null,
      "outputs": [
        {
          "output_type": "stream",
          "name": "stdout",
          "text": [
            "PEARSON CORRELATION\n",
            "              typeofaction   isfraud\n",
            "typeofaction      1.000000  0.058395\n",
            "isfraud           0.058395  1.000000\n",
            "Pearson Correlation :  0.05839496084770196\n"
          ]
        }
      ]
    },
    {
      "cell_type": "code",
      "source": [
        "# Menghitung nilai pearson correlation dari kolom isfraud dan typeoffraud\n",
        "# Menghitung nilai pearson correlation dari kolom typeofaction dan typeoffraud\n",
        "\n",
        "pc1 = dataset.loc[:, ['typeofaction', 'typeoffraud']].corr(method = 'pearson')\n",
        "pc2 = dataset.typeofaction.cov(dataset.typeoffraud) / (dataset.typeofaction.std() * dataset.typeoffraud.std())\n",
        "print('PEARSON CORRELATION')\n",
        "print(pc1)\n",
        "print('Pearson Correlation : ', pc2)"
      ],
      "metadata": {
        "colab": {
          "base_uri": "https://localhost:8080/"
        },
        "id": "UuVOl_YMvQIy",
        "outputId": "15112fc7-ef9f-46cc-e40a-8bf9948f4405"
      },
      "execution_count": null,
      "outputs": [
        {
          "output_type": "stream",
          "name": "stdout",
          "text": [
            "PEARSON CORRELATION\n",
            "              typeofaction  typeoffraud\n",
            "typeofaction      1.000000     0.393893\n",
            "typeoffraud       0.393893     1.000000\n",
            "Pearson Correlation :  0.39389297022763586\n"
          ]
        }
      ]
    },
    {
      "cell_type": "code",
      "source": [
        "# Menghitung nilai pearson correlation dari kolom isfraud dan typeoffraud\n",
        "# Menghitung nilai pearson correlation dari kolom sourceid dan destiantionid\n",
        "\n",
        "pc1 = dataset.loc[:, ['sourceid', 'destinationid']].corr(method = 'pearson')\n",
        "pc2 = dataset.sourceid.cov(dataset.destinationid) / (dataset.sourceid.std() * dataset.destinationid.std())\n",
        "print('PEARSON CORRELATION')\n",
        "print(pc1)\n",
        "print('Pearson Correlation : ', pc2)"
      ],
      "metadata": {
        "colab": {
          "base_uri": "https://localhost:8080/"
        },
        "id": "4K_4E6p7-yTs",
        "outputId": "bbca61a7-3f63-475f-f7c3-d04dad76f0aa"
      },
      "execution_count": null,
      "outputs": [
        {
          "output_type": "stream",
          "name": "stdout",
          "text": [
            "PEARSON CORRELATION\n",
            "               sourceid  destinationid\n",
            "sourceid       1.000000       0.002055\n",
            "destinationid  0.002055       1.000000\n",
            "Pearson Correlation :  0.002055255539679939\n"
          ]
        }
      ]
    },
    {
      "cell_type": "code",
      "source": [
        "# Menghitung nilai pearson correlation dari kolom isfraud dan typeoffraud\n",
        "# Menghitung nilai pearson correlation dari kolom sourceid dan amountofmoney\n",
        "\n",
        "pc1 = dataset.loc[:, ['sourceid', 'amountofmoney']].corr(method = 'pearson')\n",
        "pc2 = dataset.sourceid.cov(dataset.amountofmoney) / (dataset.sourceid.std() * dataset.amountofmoney.std())\n",
        "print('PEARSON CORRELATION')\n",
        "print(pc1)\n",
        "print('Pearson Correlation : ', pc2)"
      ],
      "metadata": {
        "colab": {
          "base_uri": "https://localhost:8080/"
        },
        "id": "HSH8biJB-2-2",
        "outputId": "3f28a3ac-aa6f-4ac4-b2f0-5c5f187878ac"
      },
      "execution_count": null,
      "outputs": [
        {
          "output_type": "stream",
          "name": "stdout",
          "text": [
            "PEARSON CORRELATION\n",
            "               sourceid  amountofmoney\n",
            "sourceid       1.000000       0.045877\n",
            "amountofmoney  0.045877       1.000000\n",
            "Pearson Correlation :  0.04587684456173501\n"
          ]
        }
      ]
    },
    {
      "cell_type": "code",
      "source": [
        "# Menghitung nilai pearson correlation dari kolom isfraud dan typeoffraud\n",
        "# Menghitung nilai pearson correlation dari kolom sourceid dan isfraud\n",
        "\n",
        "pc1 = dataset.loc[:, ['sourceid', 'isfraud']].corr(method = 'pearson')\n",
        "pc2 = dataset.sourceid.cov(dataset.isfraud) / (dataset.sourceid.std() * dataset.isfraud.std())\n",
        "print('PEARSON CORRELATION')\n",
        "print(pc1)\n",
        "print('Pearson Correlation : ', pc2)"
      ],
      "metadata": {
        "colab": {
          "base_uri": "https://localhost:8080/"
        },
        "id": "jA4gFF8h-_lz",
        "outputId": "dc9f746d-7a6c-45ab-dfab-5306117b25d3"
      },
      "execution_count": null,
      "outputs": [
        {
          "output_type": "stream",
          "name": "stdout",
          "text": [
            "PEARSON CORRELATION\n",
            "          sourceid   isfraud\n",
            "sourceid  1.000000  0.027593\n",
            "isfraud   0.027593  1.000000\n",
            "Pearson Correlation :  0.027592593990668705\n"
          ]
        }
      ]
    },
    {
      "cell_type": "code",
      "source": [
        "# Menghitung nilai pearson correlation dari kolom isfraud dan typeoffraud\n",
        "# Menghitung nilai pearson correlation dari kolom sourceid dan typeoffraud\n",
        "\n",
        "pc1 = dataset.loc[:, ['sourceid', 'typeoffraud']].corr(method = 'pearson')\n",
        "pc2 = dataset.sourceid.cov(dataset.typeoffraud) / (dataset.sourceid.std() * dataset.typeoffraud.std())\n",
        "print('PEARSON CORRELATION')\n",
        "print(pc1)\n",
        "print('Pearson Correlation : ', pc2)"
      ],
      "metadata": {
        "colab": {
          "base_uri": "https://localhost:8080/"
        },
        "id": "cq9jYb3c-7KN",
        "outputId": "4bbbbedd-fc9f-438b-c4b8-628062317dae"
      },
      "execution_count": null,
      "outputs": [
        {
          "output_type": "stream",
          "name": "stdout",
          "text": [
            "PEARSON CORRELATION\n",
            "             sourceid  typeoffraud\n",
            "sourceid     1.000000     0.009439\n",
            "typeoffraud  0.009439     1.000000\n",
            "Pearson Correlation :  0.009438968617546081\n"
          ]
        }
      ]
    },
    {
      "cell_type": "code",
      "source": [
        "# Menghitung nilai pearson correlation dari kolom isfraud dan typeoffraud\n",
        "# Menghitung nilai pearson correlation dari kolom destinationid dan amountofmoney\n",
        "\n",
        "pc1 = dataset.loc[:, ['destinationid', 'amountofmoney']].corr(method = 'pearson')\n",
        "pc2 = dataset.destinationid.cov(dataset.amountofmoney) / (dataset.destinationid.std() * dataset.amountofmoney.std())\n",
        "print('PEARSON CORRELATION')\n",
        "print(pc1)\n",
        "print('Pearson Correlation : ', pc2)"
      ],
      "metadata": {
        "colab": {
          "base_uri": "https://localhost:8080/"
        },
        "id": "MW4Fpj69AxUU",
        "outputId": "c8489cb3-9d06-49cb-e890-cbecff8b92cf"
      },
      "execution_count": null,
      "outputs": [
        {
          "output_type": "stream",
          "name": "stdout",
          "text": [
            "PEARSON CORRELATION\n",
            "               destinationid  amountofmoney\n",
            "destinationid       1.000000      -0.079404\n",
            "amountofmoney      -0.079404       1.000000\n",
            "Pearson Correlation :  -0.07940411706501384\n"
          ]
        }
      ]
    },
    {
      "cell_type": "code",
      "source": [
        "# Menghitung nilai pearson correlation dari kolom isfraud dan typeoffraud\n",
        "# Menghitung nilai pearson correlation dari kolom destinationid dan isfraud\n",
        "\n",
        "pc1 = dataset.loc[:, ['destinationid', 'isfraud']].corr(method = 'pearson')\n",
        "pc2 = dataset.destinationid.cov(dataset.isfraud) / (dataset.destinationid.std() * dataset.isfraud.std())\n",
        "print('PEARSON CORRELATION')\n",
        "print(pc1)\n",
        "print('Pearson Correlation : ', pc2)"
      ],
      "metadata": {
        "colab": {
          "base_uri": "https://localhost:8080/"
        },
        "id": "uETs0jLp--Er",
        "outputId": "ba39c86a-a798-4aae-a4c6-7314ccddd316"
      },
      "execution_count": null,
      "outputs": [
        {
          "output_type": "stream",
          "name": "stdout",
          "text": [
            "PEARSON CORRELATION\n",
            "               destinationid  isfraud\n",
            "destinationid        1.00000  0.08405\n",
            "isfraud              0.08405  1.00000\n",
            "Pearson Correlation :  0.08404977085525492\n"
          ]
        }
      ]
    },
    {
      "cell_type": "code",
      "source": [
        "# Menghitung nilai pearson correlation dari kolom isfraud dan typeoffraud\n",
        "# Menghitung nilai pearson correlation dari kolom destinationid dan typeoffraud\n",
        "\n",
        "pc1 = dataset.loc[:, ['destinationid', 'typeoffraud']].corr(method = 'pearson')\n",
        "pc2 = dataset.destinationid.cov(dataset.typeoffraud) / (dataset.destinationid.std() * dataset.typeoffraud.std())\n",
        "print('PEARSON CORRELATION')\n",
        "print(pc1)\n",
        "print('Pearson Correlation : ', pc2)"
      ],
      "metadata": {
        "colab": {
          "base_uri": "https://localhost:8080/"
        },
        "id": "NadtPdaW_MCA",
        "outputId": "47faace0-8095-4cd9-b05b-2703d687bf1e"
      },
      "execution_count": null,
      "outputs": [
        {
          "output_type": "stream",
          "name": "stdout",
          "text": [
            "PEARSON CORRELATION\n",
            "               destinationid  typeoffraud\n",
            "destinationid       1.000000     0.142042\n",
            "typeoffraud         0.142042     1.000000\n",
            "Pearson Correlation :  0.14204211410838882\n"
          ]
        }
      ]
    },
    {
      "cell_type": "code",
      "source": [
        "# Menghitung nilai pearson correlation dari kolom isfraud dan typeoffraud\n",
        "# Menghitung nilai pearson correlation dari kolom amountofmoney dan isfraud\n",
        "\n",
        "pc1 = dataset.loc[:, ['amountofmoney', 'isfraud']].corr(method = 'pearson')\n",
        "pc2 = dataset.amountofmoney.cov(dataset.isfraud) / (dataset.amountofmoney.std() * dataset.isfraud.std())\n",
        "print('PEARSON CORRELATION')\n",
        "print(pc1)\n",
        "print('Pearson Correlation : ', pc2)"
      ],
      "metadata": {
        "colab": {
          "base_uri": "https://localhost:8080/"
        },
        "id": "K-dbH8Vn_ObZ",
        "outputId": "bef281b4-f653-47cc-e6fc-3b392b98ec9f"
      },
      "execution_count": null,
      "outputs": [
        {
          "output_type": "stream",
          "name": "stdout",
          "text": [
            "PEARSON CORRELATION\n",
            "               amountofmoney   isfraud\n",
            "amountofmoney       1.000000 -0.006959\n",
            "isfraud            -0.006959  1.000000\n",
            "Pearson Correlation :  -0.006959120502519247\n"
          ]
        }
      ]
    },
    {
      "cell_type": "code",
      "source": [
        "# Menghitung nilai pearson correlation dari kolom isfraud dan typeoffraud\n",
        "# Menghitung nilai pearson correlation dari kolom amountofmoney dan typeoffraud\n",
        "\n",
        "pc1 = dataset.loc[:, ['amountofmoney', 'typeoffraud']].corr(method = 'pearson')\n",
        "pc2 = dataset.amountofmoney.cov(dataset.typeoffraud) / (dataset.amountofmoney.std() * dataset.typeoffraud.std())\n",
        "print('PEARSON CORRELATION')\n",
        "print(pc1)\n",
        "print('Pearson Correlation : ', pc2)"
      ],
      "metadata": {
        "colab": {
          "base_uri": "https://localhost:8080/"
        },
        "id": "YlH_DqRhA5OE",
        "outputId": "e04d1ad1-68c0-43d2-b521-f8d4d83b4ace"
      },
      "execution_count": null,
      "outputs": [
        {
          "output_type": "stream",
          "name": "stdout",
          "text": [
            "PEARSON CORRELATION\n",
            "               amountofmoney  typeoffraud\n",
            "amountofmoney       1.000000    -0.037925\n",
            "typeoffraud        -0.037925     1.000000\n",
            "Pearson Correlation :  -0.03792528981802332\n"
          ]
        }
      ]
    },
    {
      "cell_type": "code",
      "source": [
        "# Menghitung nilai pearson correlation dari kolom isfraud dan typeoffraud\n",
        "# Menghitung nilai pearson correlation dari kolom isfraud dan typeoffraud\n",
        "\n",
        "pc1 = dataset.loc[:, ['isfraud', 'typeoffraud']].corr(method = 'pearson')\n",
        "pc2 = dataset.isfraud.cov(dataset.typeoffraud) / (dataset.isfraud.std() * dataset.typeoffraud.std())\n",
        "print('PEARSON CORRELATION')\n",
        "print(pc1)\n",
        "print('Pearson Correlation : ', pc2)"
      ],
      "metadata": {
        "colab": {
          "base_uri": "https://localhost:8080/"
        },
        "id": "6U83LE6a_UGv",
        "outputId": "cfe094b3-263b-4291-b450-7aa4d9cabcc3"
      },
      "execution_count": null,
      "outputs": [
        {
          "output_type": "stream",
          "name": "stdout",
          "text": [
            "PEARSON CORRELATION\n",
            "              isfraud  typeoffraud\n",
            "isfraud      1.000000     0.848859\n",
            "typeoffraud  0.848859     1.000000\n",
            "Pearson Correlation :  0.8488585397856552\n"
          ]
        }
      ]
    }
  ],
  "metadata": {
    "accelerator": "GPU",
    "colab": {
      "provenance": []
    },
    "kernelspec": {
      "display_name": "Python 3",
      "name": "python3"
    },
    "language_info": {
      "name": "python"
    }
  },
  "nbformat": 4,
  "nbformat_minor": 0
}